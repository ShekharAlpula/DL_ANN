{
  "nbformat": 4,
  "nbformat_minor": 0,
  "metadata": {
    "colab": {
      "provenance": [],
      "mount_file_id": "1G8iT7USC0DXYm_1DXe8udkBnm12d_Dc1",
      "authorship_tag": "ABX9TyOv7EU6b2H+zEri2UeOpNbT",
      "include_colab_link": true
    },
    "kernelspec": {
      "name": "python3",
      "display_name": "Python 3"
    },
    "language_info": {
      "name": "python"
    }
  },
  "cells": [
    {
      "cell_type": "markdown",
      "metadata": {
        "id": "view-in-github",
        "colab_type": "text"
      },
      "source": [
        "<a href=\"https://colab.research.google.com/github/ShekharAlpula/DL_ANN/blob/main/AnnPrediction.ipynb\" target=\"_parent\"><img src=\"https://colab.research.google.com/assets/colab-badge.svg\" alt=\"Open In Colab\"/></a>"
      ]
    },
    {
      "cell_type": "code",
      "execution_count": null,
      "metadata": {
        "id": "eif0MBDlpUaz"
      },
      "outputs": [],
      "source": [
        "import tensorflow as tf\n",
        "from tensorflow.keras.models import load_model"
      ]
    },
    {
      "cell_type": "code",
      "source": [
        "import pickle\n",
        "import pandas as pd\n",
        "import numpy as np\n"
      ],
      "metadata": {
        "id": "377jVkYcpcJk"
      },
      "execution_count": null,
      "outputs": []
    },
    {
      "cell_type": "code",
      "source": [
        "from google.colab import drive\n",
        "drive.mount('/content/drive')"
      ],
      "metadata": {
        "id": "GxkqroBtqerJ"
      },
      "execution_count": null,
      "outputs": []
    },
    {
      "cell_type": "code",
      "source": [
        "model = load_model(\"/content/drive/MyDrive/Colab Notebooks/model.h5\")\n"
      ],
      "metadata": {
        "id": "fkBhGIpSpcMe"
      },
      "execution_count": null,
      "outputs": []
    },
    {
      "cell_type": "code",
      "source": [
        "!ls /content/drive/"
      ],
      "metadata": {
        "id": "naU2pDgFruKx"
      },
      "execution_count": null,
      "outputs": []
    },
    {
      "cell_type": "code",
      "source": [
        "##Load Label Encoder\n",
        "with open(\"/content/drive/MyDrive/Colab Notebooks/label_encoder_gender.pkl\", \"rb\" ) as file:\n",
        "  label_encoder_gender = pickle.load(file)"
      ],
      "metadata": {
        "id": "NXgvUb_8pcPI"
      },
      "execution_count": null,
      "outputs": []
    },
    {
      "cell_type": "code",
      "source": [
        "with open(\"/content/drive/MyDrive/Colab Notebooks/one_hot_encoder_geo.pkl\", \"rb\") as file:\n",
        "    one_hot_encoder_geo = pickle.load(file)"
      ],
      "metadata": {
        "id": "AGVtFH6SpcRu"
      },
      "execution_count": null,
      "outputs": []
    },
    {
      "cell_type": "code",
      "source": [
        "with open(\"/content/drive/MyDrive/Colab Notebooks/scaler.pkl\", \"rb\") as file:\n",
        "    scaler = pickle.load(file)"
      ],
      "metadata": {
        "id": "A_imQaSzpcUE"
      },
      "execution_count": null,
      "outputs": []
    },
    {
      "cell_type": "code",
      "source": [
        "# Example input data\n",
        "input_data = {\n",
        "    'CreditScore': 600,\n",
        "    'Geography': 'France',\n",
        "    'Gender': 'Male',\n",
        "    'Age': 40,\n",
        "    'Tenure': 3,\n",
        "    'Balance': 60000,\n",
        "    'NumOfProducts': 2,\n",
        "    'HasCrCard': 1,\n",
        "    'IsActiveMember': 1,\n",
        "    'EstimatedSalary': 50000\n",
        "}"
      ],
      "metadata": {
        "id": "RdZeA_94pcW3"
      },
      "execution_count": null,
      "outputs": []
    },
    {
      "cell_type": "code",
      "source": [
        "one_hot_encoder_geo.get_feature_names_out(['Geography'])"
      ],
      "metadata": {
        "id": "Ediq4UCHuQ9m"
      },
      "execution_count": null,
      "outputs": []
    },
    {
      "cell_type": "code",
      "source": [
        "geo_encoded = one_hot_encoder_geo.transform([[input_data['Geography']]]).toarray()\n",
        "geo_encoded_df = pd.DataFrame(geo_encoded, columns=one_hot_encoder_geo.get_feature_names_out(['Geography']))\n",
        "geo_encoded_df"
      ],
      "metadata": {
        "id": "cUWqlylkpcbm"
      },
      "execution_count": null,
      "outputs": []
    },
    {
      "cell_type": "code",
      "source": [
        "input_df = pd.DataFrame([input_data])\n",
        "input_df"
      ],
      "metadata": {
        "id": "MtWT5-WhpceO"
      },
      "execution_count": null,
      "outputs": []
    },
    {
      "cell_type": "code",
      "source": [
        "input_df['Gender'] = label_encoder_gender.transform(input_df['Gender'])"
      ],
      "metadata": {
        "id": "XMVgdmDIpcgx"
      },
      "execution_count": null,
      "outputs": []
    },
    {
      "cell_type": "code",
      "source": [
        "input_df"
      ],
      "metadata": {
        "id": "O_j7g_PmpcjR"
      },
      "execution_count": null,
      "outputs": []
    },
    {
      "cell_type": "code",
      "source": [
        "input_df = pd.concat([input_df.drop('Geography', axis=1),geo_encoded_df], axis=1)"
      ],
      "metadata": {
        "id": "9biIj7I2pcmH"
      },
      "execution_count": null,
      "outputs": []
    },
    {
      "cell_type": "code",
      "source": [
        "input_df"
      ],
      "metadata": {
        "id": "aJggIbFXpcom"
      },
      "execution_count": null,
      "outputs": []
    },
    {
      "cell_type": "code",
      "source": [
        "input_scaled = scaler.transform(input_df)"
      ],
      "metadata": {
        "id": "LQ-uqOlppcrI"
      },
      "execution_count": null,
      "outputs": []
    },
    {
      "cell_type": "code",
      "source": [
        "input_scaled"
      ],
      "metadata": {
        "id": "7pxOaCZTpctJ"
      },
      "execution_count": null,
      "outputs": []
    },
    {
      "cell_type": "code",
      "source": [
        "prediction = model.predict(input_scaled)"
      ],
      "metadata": {
        "id": "CIZrdRjLv7kF"
      },
      "execution_count": null,
      "outputs": []
    },
    {
      "cell_type": "code",
      "source": [
        "prediction"
      ],
      "metadata": {
        "id": "r6lVdRYxv7m7"
      },
      "execution_count": null,
      "outputs": []
    },
    {
      "cell_type": "code",
      "source": [
        "prediction_proba = prediction[0][0]"
      ],
      "metadata": {
        "id": "N-dhUWCyv7pi"
      },
      "execution_count": null,
      "outputs": []
    },
    {
      "cell_type": "code",
      "source": [
        "prediction_proba"
      ],
      "metadata": {
        "id": "9VwSvb9Sv7sG"
      },
      "execution_count": null,
      "outputs": []
    },
    {
      "cell_type": "code",
      "source": [
        "if prediction_proba > 0.5:\n",
        "    print('The customer is likely to churn.')\n",
        "else:\n",
        "    print('The customer is not likely to churn.')"
      ],
      "metadata": {
        "id": "hQBPG0oGv7u6"
      },
      "execution_count": null,
      "outputs": []
    }
  ]
}